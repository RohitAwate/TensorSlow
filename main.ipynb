{
 "cells": [
  {
   "cell_type": "code",
   "execution_count": 1,
   "metadata": {},
   "outputs": [],
   "source": [
    "import numpy as np\n",
    "from PIL import Image"
   ]
  },
  {
   "cell_type": "code",
   "execution_count": 2,
   "metadata": {},
   "outputs": [],
   "source": [
    "def encode_label(label: int) -> list:\n",
    "    code = [0] * 10\n",
    "    code[label] = 1\n",
    "    return code"
   ]
  },
  {
   "cell_type": "code",
   "execution_count": 3,
   "metadata": {},
   "outputs": [
    {
     "name": "stdout",
     "output_type": "stream",
     "text": [
      "[1, 0, 0, 0, 0, 0, 0, 0, 0, 0]\n",
      "[0, 1, 0, 0, 0, 0, 0, 0, 0, 0]\n",
      "[0, 0, 1, 0, 0, 0, 0, 0, 0, 0]\n",
      "[0, 0, 0, 1, 0, 0, 0, 0, 0, 0]\n",
      "[0, 0, 0, 0, 1, 0, 0, 0, 0, 0]\n",
      "[0, 0, 0, 0, 0, 1, 0, 0, 0, 0]\n",
      "[0, 0, 0, 0, 0, 0, 1, 0, 0, 0]\n",
      "[0, 0, 0, 0, 0, 0, 0, 1, 0, 0]\n",
      "[0, 0, 0, 0, 0, 0, 0, 0, 1, 0]\n",
      "[0, 0, 0, 0, 0, 0, 0, 0, 0, 1]\n"
     ]
    }
   ],
   "source": [
    "for i in range(10):\n",
    "    print(encode_label(i))"
   ]
  },
  {
   "cell_type": "code",
   "execution_count": 4,
   "metadata": {},
   "outputs": [],
   "source": [
    "import os\n",
    "\n",
    "def load_data(path: str):\n",
    "    labels = os.listdir(path)\n",
    "    \n",
    "    X, y = [], []\n",
    "    for label in labels:\n",
    "        label_encoded = encode_label(int(label))\n",
    "\n",
    "        for sample in os.listdir(f\"{path}/{label}\"):\n",
    "            png = Image.open(f\"{path}/{label}/{sample}\")\n",
    "            arr = np.array(png)\n",
    "            X.append(arr.flatten())\n",
    "            y.append(label_encoded)\n",
    "\n",
    "    return np.array(X), np.array(y)"
   ]
  },
  {
   "cell_type": "code",
   "execution_count": 5,
   "metadata": {},
   "outputs": [],
   "source": [
    "X_train, y_train = load_data(\"data/training\")\n",
    "X_test, y_test = load_data(\"data/testing\")"
   ]
  },
  {
   "cell_type": "code",
   "execution_count": 6,
   "metadata": {},
   "outputs": [
    {
     "data": {
      "text/plain": [
       "((60000, 784), (60000, 10), (10000, 784), (10000, 10))"
      ]
     },
     "execution_count": 6,
     "metadata": {},
     "output_type": "execute_result"
    }
   ],
   "source": [
    "X_train.shape, y_train.shape, X_test.shape, y_test.shape"
   ]
  },
  {
   "cell_type": "code",
   "execution_count": 7,
   "metadata": {},
   "outputs": [],
   "source": [
    "batch_size = 32\n",
    "input_size = 28 * 28\n",
    "output_size = 10\n",
    "\n",
    "h1 = input_size // 2\n",
    "h2 = h1 // 4"
   ]
  },
  {
   "cell_type": "code",
   "execution_count": 8,
   "metadata": {},
   "outputs": [],
   "source": [
    "# Interface\n",
    "class Module:\n",
    "    def forward(self, x):\n",
    "        pass\n",
    "\n",
    "    def backward(self):\n",
    "        pass\n",
    "\n",
    "    def __call__(self, x):\n",
    "        return self.forward(x)"
   ]
  },
  {
   "cell_type": "code",
   "execution_count": 9,
   "metadata": {},
   "outputs": [],
   "source": [
    "class Dense(Module):\n",
    "    def __init__(self, in_dim, out_dim, weight_scale=1e-3):\n",
    "        self.in_dim = in_dim\n",
    "        self.out_dim = out_dim\n",
    "\n",
    "        self.wdim = (in_dim, out_dim)\n",
    "        self.W = np.random.normal(scale=weight_scale, size=self.wdim)\n",
    "        self.bdim = (out_dim)\n",
    "        self.b = np.zeros(out_dim)\n",
    "\n",
    "    def forward(self, x):\n",
    "        return np.dot(x, self.W) + self.b"
   ]
  },
  {
   "cell_type": "code",
   "execution_count": 10,
   "metadata": {},
   "outputs": [],
   "source": [
    "def relu(x):\n",
    "    return np.maximum(0, x)"
   ]
  },
  {
   "cell_type": "code",
   "execution_count": 11,
   "metadata": {},
   "outputs": [],
   "source": [
    "def is_binary(arr):\n",
    "    return np.all(np.logical_or(arr == 0, arr == 1))"
   ]
  },
  {
   "cell_type": "code",
   "execution_count": 12,
   "metadata": {},
   "outputs": [],
   "source": [
    "def is_stochastic(arr):\n",
    "    assert len(arr[arr < 0]) == 0\n",
    "    assert len(arr[arr > 1]) == 0\n",
    "    \n",
    "    N, _ = arr.shape\n",
    "    return np.allclose(np.sum(arr, axis=1), np.ones(N))"
   ]
  },
  {
   "cell_type": "code",
   "execution_count": 13,
   "metadata": {},
   "outputs": [],
   "source": [
    "def softmax(x):\n",
    "    e_x = np.exp(x - np.max(x, axis=1, keepdims=True))\n",
    "    return e_x / np.sum(e_x, axis=1, keepdims=True)"
   ]
  },
  {
   "cell_type": "code",
   "execution_count": 14,
   "metadata": {},
   "outputs": [],
   "source": [
    "class FeedForwardNet(Module):\n",
    "    def __init__(self):\n",
    "        self.l1 = Dense(in_dim=input_size, out_dim=h1)\n",
    "        self.l2 = Dense(in_dim=h1, out_dim=h2)\n",
    "        self.l3 = Dense(in_dim=h2, out_dim=output_size)\n",
    "\n",
    "    def forward(self, x):\n",
    "        l1_out = relu(self.l1(x))\n",
    "        l2_out = self.l2(l1_out)\n",
    "        l3_out = self.l3(l2_out)\n",
    "        return softmax(l3_out)"
   ]
  },
  {
   "cell_type": "code",
   "execution_count": 15,
   "metadata": {},
   "outputs": [],
   "source": [
    "net = FeedForwardNet()\n",
    "out = net(X_train[:100])"
   ]
  },
  {
   "cell_type": "code",
   "execution_count": 16,
   "metadata": {},
   "outputs": [],
   "source": [
    "def cross_entropy_loss(pred, target):\n",
    "    assert is_binary(target), \"Target must contain all binary values\"\n",
    "    assert is_stochastic(pred), \"Array must sum to 1\"\n",
    "    \n",
    "    return -np.sum(np.dot(target.T, np.log(pred)))"
   ]
  },
  {
   "cell_type": "code",
   "execution_count": 17,
   "metadata": {},
   "outputs": [
    {
     "data": {
      "text/plain": [
       "2302.585166500708"
      ]
     },
     "execution_count": 17,
     "metadata": {},
     "output_type": "execute_result"
    }
   ],
   "source": [
    "cross_entropy_loss(out, y_train[:100])"
   ]
  }
 ],
 "metadata": {
  "kernelspec": {
   "display_name": "Python 3.10.8 64-bit",
   "language": "python",
   "name": "python3"
  },
  "language_info": {
   "codemirror_mode": {
    "name": "ipython",
    "version": 3
   },
   "file_extension": ".py",
   "mimetype": "text/x-python",
   "name": "python",
   "nbconvert_exporter": "python",
   "pygments_lexer": "ipython3",
   "version": "3.10.9"
  },
  "orig_nbformat": 4,
  "vscode": {
   "interpreter": {
    "hash": "31f2aee4e71d21fbe5cf8b01ff0e069b9275f58929596ceb00d14d90e3e16cd6"
   }
  }
 },
 "nbformat": 4,
 "nbformat_minor": 2
}
